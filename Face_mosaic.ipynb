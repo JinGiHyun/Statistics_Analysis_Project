{
 "cells": [
  {
   "cell_type": "code",
   "execution_count": null,
   "metadata": {},
   "outputs": [],
   "source": [
    "import numpy as np\n",
    "import cv2\n",
    "\n",
    "\n",
    "\n",
    "mosaic_rate = 30\n",
    "detector = cv2.CascadeClassifier(cv2.data.haarcascades + 'haarcascade_frontalface_default.xml')\n",
    "\n",
    "\n",
    "video = cv2.VideoCapture(0)\n",
    "\n",
    "fourcc = cv2.VideoWriter_fourcc(*'XVID')\n",
    "writer = cv2.VideoWriter('face_mosaic.avi', fourcc, 10.0, (640, 480))\n",
    "\n",
    "i=0\n",
    "ok=0\n",
    "no=0\n",
    "while (True):\n",
    "    ret, img = video.read()\n",
    "    gray = cv2.cvtColor(img, cv2.COLOR_BGR2GRAY)\n",
    "    faces = detector.detectMultiScale(gray, 1.3, 5)\n",
    "    for (x, y, w, h) in faces:\n",
    "        roi=img[y:y+h, x:x+w]\n",
    "        dst=cv2.resize(roi, dsize=(128,128),interpolation=cv2.INTER_AREA)\n",
    "        dst_1=dst.reshape(1,49152)\n",
    "        \n",
    "        predict=sess.run(tf.argmax(logits, 1), feed_dict={X:dst_1, keep_prob : 1})[0]\n",
    "        \n",
    "        if predict == 0 :\n",
    "            no=no+1\n",
    "            print('no:',no)\n",
    "\n",
    "            face_img = cv2.resize(roi, (w//mosaic_rate, h//mosaic_rate))\n",
    "        # 확대/축소한 그림을 원래 크기로 돌리기\n",
    "            face_img = cv2.resize(face_img, (w, h), interpolation=cv2.INTER_AREA)\n",
    "        # 원래 이미지에 붙이기\n",
    "            img[y:y+h, x:x+w] = face_img\n",
    "        \n",
    "        else :\n",
    "            ok=ok+1\n",
    "            print('ok:', ok)\n",
    "        \n",
    "\n",
    "    cv2.imshow('frame', img)\n",
    "    writer.write(img)\n",
    "    \n",
    "    if cv2.waitKey(1) & 0xFF == ord('q'):\n",
    "        break\n",
    "\n",
    "        \n",
    "video.release()\n",
    "writer.release()\n",
    "cv2.destroyAllWindows()"
   ]
  }
 ],
 "metadata": {
  "kernelspec": {
   "display_name": "Python 3",
   "language": "python",
   "name": "python3"
  },
  "language_info": {
   "codemirror_mode": {
    "name": "ipython",
    "version": 3
   },
   "file_extension": ".py",
   "mimetype": "text/x-python",
   "name": "python",
   "nbconvert_exporter": "python",
   "pygments_lexer": "ipython3",
   "version": "3.7.3"
  }
 },
 "nbformat": 4,
 "nbformat_minor": 2
}
